{
  "nbformat": 4,
  "nbformat_minor": 0,
  "metadata": {
    "colab": {
      "provenance": []
    },
    "kernelspec": {
      "name": "python3",
      "display_name": "Python 3"
    },
    "language_info": {
      "name": "python"
    }
  },
  "cells": [
    {
      "cell_type": "code",
      "source": [
        "# http://www.rocreaa.org.tw/member_namelist.php?&name=%E6%9E%97&inquiry=inquiry\n",
        "import requests\n",
        "import csv\n",
        "from bs4 import BeautifulSoup\n",
        "\n",
        "\n",
        "with open('/tmp/members.csv', 'a', newline='', encoding='utf-8-sig') as csvfile:\n",
        "    fieldnames = ['name', 'phone', 'address','email','fax','office']\n",
        "    writer = csv.DictWriter(csvfile, fieldnames=fieldnames)\n",
        "    writer.writeheader()\n",
        "\n",
        "    for u in [\"陳\", \"林\"]:\n",
        "          if u == \"陳\":\n",
        "              page_range = range(1, 7)\n",
        "          elif u == \"林\":\n",
        "              page_range = range(1, 5)\n",
        "          # elif......\n",
        "          for i in page_range:\n",
        "\n",
        "            url = 'http://www.rocreaa.org.tw/member_namelist.php?inquiry=inquiry&name=' + str(u) + '&page=' + str(i)\n",
        "            response = requests.get(url)\n",
        "            soup = BeautifulSoup(response.content, 'html.parser')\n",
        "            tables = soup.find_all('table')\n",
        "\n",
        "            for table in tables:\n",
        "                rows = table.find_all('tr')\n",
        "                if len(rows) >= 3:\n",
        "                    name = rows[0].find_all('td')[1].text.strip()\n",
        "                    phone = rows[1].find_all('td')[1].text.strip()\n",
        "                    address = rows[2].find_all('td')[1].text.strip()\n",
        "                    email = rows[0].find_all('td')[3].text.strip()\n",
        "                    fax = rows[1].find_all('td')[3].text.strip()\n",
        "                    office = rows[2].find_all('td')[3].text.strip()\n",
        "\n",
        "                    writer.writerow({'name': name, 'phone': phone, 'address': address,'email': email,'fax': fax,'office': office})\n"
      ],
      "metadata": {
        "id": "qLgAVIJsQ6J2"
      },
      "execution_count": 8,
      "outputs": []
    }
  ]
}